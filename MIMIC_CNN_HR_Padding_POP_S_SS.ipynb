{
 "cells": [
  {
   "cell_type": "code",
   "execution_count": null,
   "id": "8234f209-8904-4a1e-a559-36799fc10a75",
   "metadata": {},
   "outputs": [],
   "source": [
    "import sys\n",
    "path= '/home/javierz/PythonEnv/Python/Classes'\n",
    "sys.path.append('/home/javierz/PythonEnv/Python/Classes')\n",
    "from PS import PS"
   ]
  },
  {
   "cell_type": "code",
   "execution_count": null,
   "id": "c7182d4c-56ba-4dbf-9b46-a445f211ab3f",
   "metadata": {},
   "outputs": [],
   "source": [
    "import keras_tuner as kt\n",
    "import numpy as np\n",
    "import pandas as pd\n",
    "import matplotlib.pyplot as plt\n",
    "import tensorflow as tf\n",
    "from tensorflow import keras\n",
    "from tensorflow.keras import layers\n",
    "from scipy.interpolate import interp1d\n",
    "from sklearn.preprocessing import StandardScaler\n",
    "from sklearn.metrics import roc_curve, auc"
   ]
  },
  {
   "cell_type": "code",
   "execution_count": null,
   "id": "6a30dcd0-d6d2-456a-95e3-d3b7653e677c",
   "metadata": {},
   "outputs": [],
   "source": [
    "long_t = 86508\n",
    "long_u = 356\n",
    "\n",
    "df_ids = pd.read_csv('../MIMIC III/v3.0/hadms_POP_S_SS_clean.csv')\n",
    "vhadm = df_ids.loc[:,'hadm_id']\n",
    "\n",
    "model = keras.models.load_model(\"Models/Model_FC_356.h5\", compile = False)\n",
    "keras.utils.plot_model(model, show_shapes=True)"
   ]
  },
  {
   "cell_type": "code",
   "execution_count": null,
   "id": "1340db71-7a58-4be6-9ff0-9bf6ab299e6e",
   "metadata": {},
   "outputs": [],
   "source": [
    "for hadm in vhadm:\n",
    "    print (hadm)\n",
    "    df = pd.read_csv('Data2/HR_Padd_gNorm_POP_S_SS/'+str(hadm)+'.csv')\n",
    "    nw = df['HR'].to_numpy()\n",
    "    serie_t = np.asarray(nw[:long_t])      \n",
    "    vFC,nW = PS.Trimmer(serie_t,long_u) \n",
    "    \n",
    "    x = np.asarray(vFC)\n",
    "    x = x.reshape((x.shape[0], x.shape[1], 1))\n",
    "    y_score = np.round(model.predict(x),4) \n",
    "    vWin = np.arange(0,nW)\n",
    "    vId = [hadm]*nW\n",
    "    \n",
    "    df_out= pd.DataFrame({'hadm_id':vId,'Window':vWin,'C_0':y_score[:,0],'C_1':y_score[:,1],'C_2':y_score[:,2]})\n",
    "    df_out.to_csv('Data2/Resultados/MIMIC_Classif_POP_S_SS/'+str(hadm)+'.csv')  \n",
    "\n",
    "\n",
    "print('rdy')"
   ]
  },
  {
   "cell_type": "code",
   "execution_count": null,
   "id": "637e0e54-8968-4205-aab3-bb7b7661a6b1",
   "metadata": {},
   "outputs": [],
   "source": []
  },
  {
   "cell_type": "code",
   "execution_count": null,
   "id": "fde68525-4530-4843-8377-b828c233b38b",
   "metadata": {},
   "outputs": [],
   "source": []
  }
 ],
 "metadata": {
  "kernelspec": {
   "display_name": "Python 3 (ipykernel)",
   "language": "python",
   "name": "python3"
  },
  "language_info": {
   "codemirror_mode": {
    "name": "ipython",
    "version": 3
   },
   "file_extension": ".py",
   "mimetype": "text/x-python",
   "name": "python",
   "nbconvert_exporter": "python",
   "pygments_lexer": "ipython3",
   "version": "3.8.10"
  }
 },
 "nbformat": 4,
 "nbformat_minor": 5
}
